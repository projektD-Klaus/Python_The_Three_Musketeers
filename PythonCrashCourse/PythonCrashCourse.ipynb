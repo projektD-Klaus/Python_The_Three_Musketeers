{
 "cells": [
  {
   "cell_type": "markdown",
   "metadata": {},
   "source": [
    "\n"
   ]
  },
  {
   "cell_type": "markdown",
   "metadata": {},
   "source": [
    "chp2 变量"
   ]
  },
  {
   "cell_type": "code",
   "execution_count": 1,
   "metadata": {},
   "outputs": [
    {
     "name": "stdout",
     "output_type": "stream",
     "text": [
      "hello world!\n",
      "One of python's strengths is its diverse and  supportive community.\n"
     ]
    }
   ],
   "source": [
    "message=\"hello world!\"\n",
    "print(message)\n",
    "str=\"One of python's strengths is its diverse and supportive community.\"\n",
    "print(str)"
   ]
  },
  {
   "cell_type": "code",
   "execution_count": 12,
   "metadata": {},
   "outputs": [
    {
     "name": "stdout",
     "output_type": "stream",
     "text": [
      "Ada Lovelace\n",
      "ADA LOVELACE\n",
      "ada lovelace\n",
      "ada lovelace\n",
      "ada any strings here lovelace\n",
      "Hello, Ada Lovelace\n"
     ]
    }
   ],
   "source": [
    "# 大小写\n",
    "name=\"ada lovelace\"\n",
    "print(name.title())\n",
    "print(name.upper())\n",
    "print(name.lower())\n",
    "\n",
    "# 要在字符串中插入变量的值，可在前引号前加上字母f\n",
    "first_name=\"ada\"\n",
    "last_name=\"lovelace\"\n",
    "full_name=f\"{first_name} {last_name}\"\n",
    "print(full_name)\n",
    "print(f\"{first_name} any strings here {last_name}\")\n",
    "print(f\"Hello, {first_name.title()} {last_name.title()}\")"
   ]
  },
  {
   "cell_type": "code",
   "execution_count": 5,
   "metadata": {},
   "outputs": [
    {
     "name": "stdout",
     "output_type": "stream",
     "text": [
      "   ddjj\n",
      "7\n",
      "ddjj\n",
      "4\n"
     ]
    }
   ],
   "source": [
    "# delete the space within strings\n",
    "\n",
    "str=\"   ddjj  \"\n",
    "str=str.rstrip()\n",
    "print(str)\n",
    "print(len(str))\n",
    "#只移除末尾空白 r:right\n",
    "str=str.lstrip()\n",
    "print(str)\n",
    "print(len(str))"
   ]
  },
  {
   "cell_type": "code",
   "execution_count": 14,
   "metadata": {},
   "outputs": [
    {
     "name": "stdout",
     "output_type": "stream",
     "text": [
      "14000000000\n",
      "500\n"
     ]
    }
   ],
   "source": [
    "# 书写很大的数时，可使用下划线将其中的数字分组，使其更清晰易读：\n",
    "universe_age=14_000_000_000\n",
    "print(universe_age)\n",
    "\n",
    "# 但Python程序员会使用全大写来指出应将某个变量视为常量，其值应始终不变\n",
    "MAX_CONNECTIONS = 500\n",
    "print(MAX_CONNECTIONS)"
   ]
  },
  {
   "cell_type": "code",
   "execution_count": 15,
   "metadata": {},
   "outputs": [
    {
     "name": "stdout",
     "output_type": "stream",
     "text": [
      "The Zen of Python, by Tim Peters\n",
      "\n",
      "Beautiful is better than ugly.\n",
      "Explicit is better than implicit.\n",
      "Simple is better than complex.\n",
      "Complex is better than complicated.\n",
      "Flat is better than nested.\n",
      "Sparse is better than dense.\n",
      "Readability counts.\n",
      "Special cases aren't special enough to break the rules.\n",
      "Although practicality beats purity.\n",
      "Errors should never pass silently.\n",
      "Unless explicitly silenced.\n",
      "In the face of ambiguity, refuse the temptation to guess.\n",
      "There should be one-- and preferably only one --obvious way to do it.\n",
      "Although that way may not be obvious at first unless you're Dutch.\n",
      "Now is better than never.\n",
      "Although never is often better than *right* now.\n",
      "If the implementation is hard to explain, it's a bad idea.\n",
      "If the implementation is easy to explain, it may be a good idea.\n",
      "Namespaces are one honking great idea -- let's do more of those!\n"
     ]
    }
   ],
   "source": [
    "import this"
   ]
  },
  {
   "cell_type": "markdown",
   "metadata": {},
   "source": [
    "chp3 列表"
   ]
  },
  {
   "cell_type": "code",
   "execution_count": 2,
   "metadata": {},
   "outputs": [
    {
     "name": "stdout",
     "output_type": "stream",
     "text": [
      "trek\n",
      "specialized\n"
     ]
    }
   ],
   "source": [
    "# 列表是有序集合，因此要访问列表的任意元素，只需将该元素的位置（索引 ）告诉\n",
    "# Python即可。要访问列表元素，可指出列表的名称，再指出元素的索引，并将后者放在方括号内。\n",
    "bicycles = ['trek', 'cannondale', 'redline', 'specialized']\n",
    "print(bicycles[0]) \n",
    "\n",
    "# Python为访问最后一个列表元素提供了一种特殊语法。通过将索引指定为-1 ，可让Python返回最后一个列表元素：\n",
    "# 这种约定也适用于其他负数索引。例如，索引-2 返回倒数第二个列表元素，索引-3 返回倒数第三个列表元素，依此类推\n",
    "print(bicycles[-1])"
   ]
  },
  {
   "cell_type": "code",
   "execution_count": 1,
   "metadata": {},
   "outputs": [
    {
     "name": "stdout",
     "output_type": "stream",
     "text": [
      "['honda', 'ducati', 'suzuki', 'yamaha']\n"
     ]
    }
   ],
   "source": [
    "# list modify\n",
    "# append, insert, \n",
    "# 使用方法insert() 可在列表的任何位置添加新元素。为此，你需要指定新元素的索引和值。\n",
    "motorcycles=[\"honda\", \"suzuki\", \"yamaha\"]\n",
    "motorcycles.insert(1,\"ducati\")\n",
    "print(motorcycles)"
   ]
  },
  {
   "cell_type": "code",
   "execution_count": 2,
   "metadata": {},
   "outputs": [
    {
     "name": "stdout",
     "output_type": "stream",
     "text": [
      "['ducati', 'suzuki', 'yamaha']\n"
     ]
    }
   ],
   "source": [
    "# delete element\n",
    "del motorcycles[0]\n",
    "print(motorcycles)"
   ]
  },
  {
   "cell_type": "code",
   "execution_count": 3,
   "metadata": {},
   "outputs": [
    {
     "name": "stdout",
     "output_type": "stream",
     "text": [
      "['honda', 'suzuki']\n",
      "yamaha\n"
     ]
    }
   ],
   "source": [
    "# 有时候，你要将元素从列表中删除，并接着使用它的值。例如，你可能需要获取刚\n",
    "# 被射杀的外星人的 坐标和 坐标，以便在相应的位置显示爆炸效果；在Web应用程序中，\n",
    "# 你可能要将用户从活跃成员列表中删除，并将其加入到非活跃成员列表中\n",
    "motorcycles=[\"honda\", \"suzuki\", \"yamaha\"]\n",
    "popped_motorcycle=motorcycles.pop()\n",
    "\n",
    "print(motorcycles)\n",
    "print(popped_motorcycle)"
   ]
  },
  {
   "cell_type": "code",
   "execution_count": null,
   "metadata": {},
   "outputs": [],
   "source": [
    "# 实际上，可以使用pop() 来删除列表中任意位置的元素，只需在圆括号中指定要删除元素的索引即可。\n",
    "\n",
    "# 如果你不确定该使用del 语句还是pop() 方法，下面是一个简单的判断标准：如果\n",
    "# 你要从列表中删除一个元素，且不再以任何方式使用它，就使用del 语句；如果你\n",
    "# 要在删除元素后还能继续使用它，就使用方法pop() "
   ]
  },
  {
   "cell_type": "code",
   "execution_count": 4,
   "metadata": {},
   "outputs": [
    {
     "name": "stdout",
     "output_type": "stream",
     "text": [
      "['honda', 'yamaha', 'suzuki']\n"
     ]
    }
   ],
   "source": [
    "# 有时候，你不知道要从列表中删除的值所处的位置。如果只知道要删除的元素的值，可使用方法remove() \n",
    "motorcycles = [\"honda\", 'yamaha', 'suzuki', 'ducati']\n",
    "motorcycles.remove('ducati')\n",
    "print(motorcycles)\n",
    "\n",
    "# 方法remove() 只删除第一个指定的值。如果要删除的值可能在列表中\n",
    "# 出现多次，就需要使用循环来确保将每个值都删除。"
   ]
  },
  {
   "cell_type": "code",
   "execution_count": 6,
   "metadata": {},
   "outputs": [
    {
     "name": "stdout",
     "output_type": "stream",
     "text": [
      "['audi', 'bmw', 'subaru', 'toyota']\n",
      "['toyota', 'subaru', 'bmw', 'audi']\n"
     ]
    }
   ],
   "source": [
    "# organize the list\n",
    "# sort\n",
    "cars = ['bmw', 'audi', 'toyota', 'subaru'] \n",
    "cars.sort() \n",
    "print(cars) \n",
    "\n",
    "cars.sort(reverse=True) \n",
    "print(cars) "
   ]
  },
  {
   "cell_type": "code",
   "execution_count": 8,
   "metadata": {},
   "outputs": [
    {
     "name": "stdout",
     "output_type": "stream",
     "text": [
      "sorted:\n",
      "['audi', 'bmw', 'subaru', 'toyota']\n",
      "sorted:\n",
      "['toyota', 'subaru', 'bmw', 'audi']\n"
     ]
    }
   ],
   "source": [
    "# 要保留列表元素原来的排列顺序，同时以特定的顺序呈现它们，可使用函数\n",
    "# sorted() 。函数sorted() 让你能够按特定顺序显示列表元素，同时不影响它们\n",
    "# 在列表中的原始排列顺序。\n",
    "cars = ['bmw', 'audi', 'toyota', 'subaru'] \n",
    "print(\"sorted:\")\n",
    "print(sorted(cars))\n",
    "\n",
    "print(\"sorted:\")\n",
    "print(sorted(cars,reverse=True))"
   ]
  },
  {
   "cell_type": "code",
   "execution_count": 10,
   "metadata": {},
   "outputs": [
    {
     "name": "stdout",
     "output_type": "stream",
     "text": [
      "['bmw', 'audi', 'toyota', 'subaru']\n",
      "['subaru', 'toyota', 'audi', 'bmw']\n"
     ]
    }
   ],
   "source": [
    "# 要反转列表元素的排列顺序，可使用方法reverse() 。\n",
    "cars = ['bmw', 'audi', 'toyota', 'subaru'] \n",
    "print(cars) \n",
    "cars.reverse() \n",
    "print(cars)\n",
    "\n",
    "# 方法reverse() 永久性地修改列表元素的排列顺序，但可随时恢复到原来的排列顺序，只需对列表再次调用reverse() 即可。"
   ]
  },
  {
   "cell_type": "markdown",
   "metadata": {},
   "source": [
    "chp4 operate the list"
   ]
  },
  {
   "cell_type": "code",
   "execution_count": null,
   "metadata": {},
   "outputs": [],
   "source": []
  },
  {
   "cell_type": "code",
   "execution_count": 13,
   "metadata": {},
   "outputs": [
    {
     "name": "stdout",
     "output_type": "stream",
     "text": [
      "[1, 2, 3, 4, 5]\n",
      "[2, 4, 6, 8, 10]\n"
     ]
    }
   ],
   "source": [
    "# 使用range() 创建数字列表\n",
    "numbers = list(range(1,6))\n",
    "print(numbers)\n",
    "\n",
    "# 使用函数range() 时，还可指定步长。为此，可给这个函数指定第三个参数，Python将根据这个步长来生成数。\n",
    "even_numbers = list(range(2,11,2))\n",
    "print(even_numbers)"
   ]
  },
  {
   "cell_type": "code",
   "execution_count": 14,
   "metadata": {},
   "outputs": [
    {
     "name": "stdout",
     "output_type": "stream",
     "text": [
      "[1, 4, 9, 16, 25, 36, 49, 64, 81, 100]\n"
     ]
    }
   ],
   "source": [
    "squares=[]\n",
    "for value in range(1,11):\n",
    "    square=value**2\n",
    "    squares.append(square)\n",
    "\n",
    "print(squares)\n",
    "\n",
    "#  min max sum\n",
    "min(squares)\n",
    "max(squares)\n",
    "sum(squares)"
   ]
  },
  {
   "cell_type": "code",
   "execution_count": 15,
   "metadata": {},
   "outputs": [
    {
     "name": "stdout",
     "output_type": "stream",
     "text": [
      "[1, 4, 9, 16, 25, 36, 49, 64, 81, 100]\n"
     ]
    }
   ],
   "source": [
    "# 而列表解析让你只需编写一\n",
    "# 行代码就能生成这样的列表。列表解析 将for 循环和创建新元素的代码合并成一\n",
    "# 行，并自动附加新元素。面向初学者的书并非都会介绍列表解析，这里之所以介绍\n",
    "# 列表解析，是因为等你开始阅读他人编写的代码时，很可能会遇到它。\n",
    "squares=[value**2 for value in range(1,11)]\n",
    "print(squares)\n",
    "\n",
    "# 要创建自己的列表解析，需要经过一定的练习，但能够熟练地创建常规列表后，你\n",
    "# 会发现这样做是完全值得的。当你觉得编写三四行代码来生成列表有点繁复时，就\n",
    "# 应考虑创建列表解析了。"
   ]
  },
  {
   "cell_type": "code",
   "execution_count": 19,
   "metadata": {},
   "outputs": [
    {
     "name": "stdout",
     "output_type": "stream",
     "text": [
      "['charles', 'martina', 'michael']\n"
     ]
    }
   ],
   "source": [
    "# slice the list\n",
    "players = ['charles', 'martina', 'michael', 'florence', 'eli']\n",
    "print(players[0:3]) "
   ]
  },
  {
   "cell_type": "code",
   "execution_count": 2,
   "metadata": {},
   "outputs": [
    {
     "name": "stdout",
     "output_type": "stream",
     "text": [
      "My favorite foods are:\n",
      "['pizza', 'falafel', 'carrot cake']\n",
      "\n",
      "My friend's favorite foods are:\n",
      "['pizza', 'falafel', 'carrot cake']\n"
     ]
    }
   ],
   "source": [
    "# 复制列表\n",
    "my_foods = ['pizza', 'falafel', 'carrot cake']\n",
    "friend_foods = my_foods[:] \n",
    "print(\"My favorite foods are:\") \n",
    "print(my_foods) \n",
    "print(\"\\nMy friend's favorite foods are:\") \n",
    "print(friend_foods) "
   ]
  },
  {
   "cell_type": "code",
   "execution_count": 5,
   "metadata": {},
   "outputs": [
    {
     "name": "stdout",
     "output_type": "stream",
     "text": [
      "Original dimensions:\n",
      "200\n",
      "50\n",
      "\n",
      "Modified dimensions:\n",
      "400\n",
      "100\n"
     ]
    }
   ],
   "source": [
    "# 列表非常适合用于存储在程序运行期间可能变化的数据集。列表是可以修改的，这\n",
    "# 对处理网站的用户列表或游戏中的角色列表至关重要。然而，有时候你需要创建一系列不可修改的元素，元组可以满足这种需求\n",
    "dimensions=(200,50)\n",
    "# dimensions[0] = 250\n",
    "\n",
    "dimensions = (200, 50)   \n",
    "print(\"Original dimensions:\")   \n",
    "for dimension in dimensions:       \n",
    "    print(dimension) \n",
    "dimensions = (400, 100)\n",
    "print(\"\\nModified dimensions:\") \n",
    "for dimension in dimensions:       \n",
    "   print(dimension) "
   ]
  },
  {
   "cell_type": "code",
   "execution_count": 1,
   "metadata": {},
   "outputs": [
    {
     "name": "stdout",
     "output_type": "stream",
     "text": [
      "Audi\n",
      "BMW\n",
      "Subaru\n",
      "Toyota\n"
     ]
    }
   ],
   "source": [
    "# if \n",
    "cars=['audi','bmw','subaru','toyota']\n",
    "for car in cars:\n",
    "    if car=='bmw':\n",
    "        print(car.upper())\n",
    "    else:\n",
    "        print(car.title())"
   ]
  },
  {
   "cell_type": "code",
   "execution_count": null,
   "metadata": {},
   "outputs": [],
   "source": [
    "# keywords and, or, in, not in"
   ]
  },
  {
   "cell_type": "code",
   "execution_count": 1,
   "metadata": {},
   "outputs": [
    {
     "name": "stdout",
     "output_type": "stream",
     "text": [
      "your admission cost is $25\n"
     ]
    }
   ],
   "source": [
    "# 我们经常需要检查超过两个的情形，为此可使用Python提供的if-elif-else 结\n",
    "# 构。Python只执行if-elif-else 结构中的一个代码块\n",
    "\n",
    "age = 12\n",
    "if age < 4:\n",
    "      print(\"your admission cost is $0\")\n",
    "elif age < 18:\n",
    "      print(\"your admission cost is $25\")\n",
    "else:\n",
    "      print(\"your admission cost is $40\")\n",
    "             "
   ]
  },
  {
   "cell_type": "code",
   "execution_count": 2,
   "metadata": {},
   "outputs": [
    {
     "name": "stdout",
     "output_type": "stream",
     "text": [
      "gott score 5\n"
     ]
    }
   ],
   "source": [
    "alien_colour = ['green', 'yellow', 'red']\n",
    "for alien in alien_colour:\n",
    "      if alien == 'green':\n",
    "            print(\"gott score 5\")"
   ]
  },
  {
   "cell_type": "code",
   "execution_count": 4,
   "metadata": {},
   "outputs": [
    {
     "name": "stdout",
     "output_type": "stream",
     "text": [
      "List is empty!\n"
     ]
    }
   ],
   "source": [
    "# 判断列表非空\n",
    "requested_toppings = []\n",
    "\n",
    "if not requested_toppings:\n",
    "      print(\"List is empty!\")"
   ]
  },
  {
   "cell_type": "code",
   "execution_count": 6,
   "metadata": {},
   "outputs": [
    {
     "name": "stdout",
     "output_type": "stream",
     "text": [
      "adding mushroom\n",
      "sorry, we don't have frensh fries.\n",
      "adding extra cheese\n",
      "\n",
      "finished making your pizza!\n"
     ]
    }
   ],
   "source": [
    "# 使用多个列表\n",
    "\n",
    "available_toppings = ['mushroom', 'olives', 'green peppers', 'pepperoni', 'pineapple', 'extra cheese']\n",
    "requested_toppings = ['mushroom', 'frensh fries', 'extra cheese']\n",
    "\n",
    "for requested_topping in requested_toppings:\n",
    "      if requested_topping in available_toppings:\n",
    "            print(f\"adding {requested_topping}\")\n",
    "      else:\n",
    "            print(f\"sorry, we don't have {requested_topping}.\")\n",
    "print(\"\\nfinished making your pizza!\")"
   ]
  },
  {
   "cell_type": "code",
   "execution_count": 3,
   "metadata": {},
   "outputs": [
    {
     "name": "stdout",
     "output_type": "stream",
     "text": [
      "green\n",
      "5\n",
      "{'colour': 'green', 'points': 5, 'x_position': 0, 'y_position': 25}\n"
     ]
    }
   ],
   "source": [
    "# dictionary\n",
    "alien_0 = {'colour': 'green', 'points': 5}\n",
    "print(alien_0['colour'])\n",
    "print(alien_0['points'])\n",
    "\n",
    "# 字典是一种动态结构，可随时在其中添加键值对。要添加键值对，可依次指定字典\n",
    "# 名、用方括号括起的键和相关联的值。\n",
    "alien_0['x_position'] = 0\n",
    "alien_0['y_position'] = 25\n",
    "\n",
    "print(alien_0)"
   ]
  },
  {
   "cell_type": "code",
   "execution_count": 4,
   "metadata": {},
   "outputs": [
    {
     "name": "stdout",
     "output_type": "stream",
     "text": [
      "{'color': 'green', 'points': 5}\n",
      "{'color': 'green'}\n"
     ]
    }
   ],
   "source": [
    "# 对于字典中不再需要的信息，可使用del 语句将相应的键值对彻底删除。使用del\n",
    "# 语句时，必须指定字典名和要删除的键。\n",
    "alien_0 = {'color': 'green', 'points': 5}   \n",
    "print(alien_0)\n",
    "\n",
    "del alien_0['points']\n",
    "print(alien_0)"
   ]
  },
  {
   "cell_type": "code",
   "execution_count": 5,
   "metadata": {},
   "outputs": [
    {
     "name": "stdout",
     "output_type": "stream",
     "text": [
      "sarah's favorite language is C\n"
     ]
    }
   ],
   "source": [
    "# big dictionary\n",
    "favority_languages = {\n",
    "    'jen': 'python',\n",
    "    'sarah': 'c',\n",
    "    'edward': 'ruby',\n",
    "    'phil': 'python'\n",
    "}\n",
    "\n",
    "language = favority_languages['sarah'].title()\n",
    "print(f\"sarah's favorite language is {language}\")"
   ]
  },
  {
   "cell_type": "code",
   "execution_count": 7,
   "metadata": {},
   "outputs": [
    {
     "name": "stdout",
     "output_type": "stream",
     "text": [
      "None\n"
     ]
    }
   ],
   "source": [
    "# get().  如果指定的键有可能不存在，应考虑使用方法get() ，而不要使用方括号表示法。\n",
    "alien_0 = {'color': 'green', 'speed': 'slow'}\n",
    "# point_vaule = alien_0.get('points', 'No point value assigned')\n",
    "point_vaule = alien_0.get('points') # return None\n",
    "\n",
    "print(point_vaule)"
   ]
  },
  {
   "cell_type": "code",
   "execution_count": 11,
   "metadata": {},
   "outputs": [
    {
     "name": "stdout",
     "output_type": "stream",
     "text": [
      "Jen's favourite language is Python\n",
      "Sarah's favourite language is C\n",
      "Edward's favourite language is Ruby\n",
      "Phil's favourite language is Python\n"
     ]
    }
   ],
   "source": [
    "favority_languages = {\n",
    "    'jen': 'python',\n",
    "    'sarah': 'c',\n",
    "    'edward': 'ruby',\n",
    "    'phil': 'python'\n",
    "}\n",
    "for name, language in favority_languages.items():\n",
    "    print(f\"{name.title()}'s favourite language is {language.title()}\")"
   ]
  },
  {
   "cell_type": "code",
   "execution_count": null,
   "metadata": {},
   "outputs": [],
   "source": [
    "lllll"
   ]
  }
 ],
 "metadata": {
  "kernelspec": {
   "display_name": "Python 3",
   "language": "python",
   "name": "python3"
  },
  "language_info": {
   "codemirror_mode": {
    "name": "ipython",
    "version": 3
   },
   "file_extension": ".py",
   "mimetype": "text/x-python",
   "name": "python",
   "nbconvert_exporter": "python",
   "pygments_lexer": "ipython3",
   "version": "3.11.8"
  }
 },
 "nbformat": 4,
 "nbformat_minor": 2
}
